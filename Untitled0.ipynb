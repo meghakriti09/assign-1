{
  "nbformat": 4,
  "nbformat_minor": 0,
  "metadata": {
    "colab": {
      "name": "Untitled0.ipynb",
      "provenance": []
    },
    "kernelspec": {
      "name": "python3",
      "display_name": "Python 3"
    },
    "language_info": {
      "name": "python"
    }
  },
  "cells": [
    {
      "cell_type": "markdown",
      "metadata": {
        "id": "uC88gUQ8ynl9"
      },
      "source": [
        "                                                      assignment 1"
      ]
    },
    {
      "cell_type": "markdown",
      "metadata": {
        "id": "lFcHCCNl7NkC"
      },
      "source": [
        "QUESTION **1**"
      ]
    },
    {
      "cell_type": "code",
      "metadata": {
        "id": "rmKPLQT73wto"
      },
      "source": [
        "list_1 = [\"apple\",\"moto\",\"oppo\",\"samsung\",\"redmi\",\"realme\"]\n",
        "list_2 = [\"apple\",\"nyka\",\"redmi\",\"bata\",\"micromax\"]"
      ],
      "execution_count": null,
      "outputs": []
    },
    {
      "cell_type": "code",
      "metadata": {
        "colab": {
          "base_uri": "https://localhost:8080/"
        },
        "id": "10MOP-aO3wwo",
        "outputId": "81a75af7-9575-4d23-be7f-b8fac03db9de"
      },
      "source": [
        "list_1"
      ],
      "execution_count": null,
      "outputs": [
        {
          "output_type": "execute_result",
          "data": {
            "text/plain": [
              "['apple', 'moto', 'oppo', 'samsung', 'redmi', 'realme']"
            ]
          },
          "metadata": {
            "tags": []
          },
          "execution_count": 26
        }
      ]
    },
    {
      "cell_type": "code",
      "metadata": {
        "colab": {
          "base_uri": "https://localhost:8080/"
        },
        "id": "2OFdwwPs4wKr",
        "outputId": "899ddf1e-3d06-4afc-cd82-38dc9ad9e4ea"
      },
      "source": [
        "list_2"
      ],
      "execution_count": null,
      "outputs": [
        {
          "output_type": "execute_result",
          "data": {
            "text/plain": [
              "['apple', 'nyka', 'redmi', 'bata', 'micromax']"
            ]
          },
          "metadata": {
            "tags": []
          },
          "execution_count": 27
        }
      ]
    },
    {
      "cell_type": "markdown",
      "metadata": {
        "id": "1C5kDIAW933W"
      },
      "source": [
        "QUESTION **2**"
      ]
    },
    {
      "cell_type": "code",
      "metadata": {
        "colab": {
          "base_uri": "https://localhost:8080/"
        },
        "id": "JNas80Il3wzh",
        "outputId": "3ef196ee-af38-4622-8764-4a436165ad41"
      },
      "source": [
        "list3 = [value for value in list_1 if value in list_2]\n",
        "print(list3)\n"
      ],
      "execution_count": null,
      "outputs": [
        {
          "output_type": "stream",
          "text": [
            "['apple', 'redmi']\n"
          ],
          "name": "stdout"
        }
      ]
    },
    {
      "cell_type": "markdown",
      "metadata": {
        "id": "FoOrNdEV7Gup"
      },
      "source": [
        "QUESTION **3**"
      ]
    },
    {
      "cell_type": "code",
      "metadata": {
        "colab": {
          "base_uri": "https://localhost:8080/"
        },
        "id": "AIl4gi0O0x7n",
        "outputId": "a11652b0-047a-434c-c212-7f1e869d4e32"
      },
      "source": [
        "range(20,40,2)\n",
        "for i in range(20,40,2):\n",
        "  print(i,end=\" \")\n"
      ],
      "execution_count": null,
      "outputs": [
        {
          "output_type": "stream",
          "text": [
            "20 22 24 26 28 30 32 34 36 38 "
          ],
          "name": "stdout"
        }
      ]
    },
    {
      "cell_type": "code",
      "metadata": {
        "id": "0RIqBUqL3w71"
      },
      "source": [
        ""
      ],
      "execution_count": null,
      "outputs": []
    },
    {
      "cell_type": "code",
      "metadata": {
        "id": "DUVYs1vM3w-H"
      },
      "source": [
        ""
      ],
      "execution_count": null,
      "outputs": []
    },
    {
      "cell_type": "code",
      "metadata": {
        "id": "VloeOne93xCf"
      },
      "source": [
        ""
      ],
      "execution_count": null,
      "outputs": []
    },
    {
      "cell_type": "code",
      "metadata": {
        "id": "KKif0uYk3xHf"
      },
      "source": [
        ""
      ],
      "execution_count": null,
      "outputs": []
    },
    {
      "cell_type": "code",
      "metadata": {
        "id": "PwgDhjzj3xKQ"
      },
      "source": [
        ""
      ],
      "execution_count": null,
      "outputs": []
    },
    {
      "cell_type": "code",
      "metadata": {
        "id": "ubWXwb363xN8"
      },
      "source": [
        ""
      ],
      "execution_count": null,
      "outputs": []
    },
    {
      "cell_type": "code",
      "metadata": {
        "id": "a9YBeDm93xPj"
      },
      "source": [
        ""
      ],
      "execution_count": null,
      "outputs": []
    },
    {
      "cell_type": "code",
      "metadata": {
        "id": "zHYOobYc3xUA"
      },
      "source": [
        ""
      ],
      "execution_count": null,
      "outputs": []
    }
  ]
}